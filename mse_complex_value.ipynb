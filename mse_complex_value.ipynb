{
 "cells": [
  {
   "cell_type": "code",
   "execution_count": 4,
   "id": "c9e61740-8a93-4d46-9965-26e93f00921a",
   "metadata": {},
   "outputs": [],
   "source": [
    "import numpy\n",
    "import torch"
   ]
  },
  {
   "cell_type": "code",
   "execution_count": 7,
   "id": "9a23c2ef-7b65-430e-b3a7-8fc0eff1f359",
   "metadata": {},
   "outputs": [
    {
     "name": "stdout",
     "output_type": "stream",
     "text": [
      "MSE (NumPy): 0.04000000000000004\n"
     ]
    }
   ],
   "source": [
    "import numpy as np\n",
    "\n",
    "# Generate example complex-valued data\n",
    "y_true = np.array([1+2j, 3+4j, 5+6j])\n",
    "y_pred = np.array([1.1+2.1j, 2.9+4.1j, 5.2+5.8j])\n",
    "\n",
    "# Compute MSE for complex values\n",
    "mse = np.mean(np.abs(y_true - y_pred) ** 2)\n",
    "print(\"MSE (NumPy):\", mse)"
   ]
  },
  {
   "cell_type": "code",
   "execution_count": 5,
   "id": "94fde766-64e5-4f08-9a00-1458700c3e6e",
   "metadata": {},
   "outputs": [
    {
     "name": "stdout",
     "output_type": "stream",
     "text": [
      "Complex MSE Loss: 0.039999935775995255\n"
     ]
    }
   ],
   "source": [
    "import torch\n",
    "import torch.nn as nn\n",
    "\n",
    "class ComplexMSELoss(nn.Module):\n",
    "    def __init__(self):\n",
    "        \"\"\"Custom Mean Squared Error (MSE) Loss for Complex Numbers.\"\"\"\n",
    "        super().__init__()\n",
    "\n",
    "    def forward(self, y_pred, y_true):\n",
    "        \"\"\"\n",
    "        Compute MSE loss for complex tensors.\n",
    "\n",
    "        :param y_pred: Predicted complex tensor\n",
    "        :param y_true: Target complex tensor\n",
    "        :return: Scalar MSE loss\n",
    "        \"\"\"\n",
    "        # Compute squared magnitude of difference\n",
    "        mse = torch.mean(torch.abs(y_true - y_pred) ** 2)\n",
    "        return mse\n",
    "\n",
    "# Example Usage\n",
    "if __name__ == \"__main__\":\n",
    "    # Define example complex tensors\n",
    "    y_true = torch.tensor([1+2j, 3+4j, 5+6j], dtype=torch.complex64)\n",
    "    y_pred = torch.tensor([1.1+2.1j, 2.9+4.1j, 5.2+5.8j], dtype=torch.complex64)\n",
    "\n",
    "    # Initialize custom loss function\n",
    "    criterion = ComplexMSELoss()\n",
    "\n",
    "    # Compute loss\n",
    "    loss = criterion(y_pred, y_true)\n",
    "    print(\"Complex MSE Loss:\", loss.item())\n",
    "\n"
   ]
  },
  {
   "cell_type": "code",
   "execution_count": 15,
   "id": "4ef63e48-6fd9-404f-9cbb-27d7746a77a0",
   "metadata": {},
   "outputs": [
    {
     "name": "stdout",
     "output_type": "stream",
     "text": [
      "Complex MSE Loss (Separate Real & Imaginary): 0.039999932050704956\n"
     ]
    }
   ],
   "source": [
    "class ComplexMSELossSeparate(nn.Module):\n",
    "    def __init__(self):\n",
    "        \"\"\"Custom Mean Squared Error (MSE) Loss treating real and imaginary parts separately.\"\"\"\n",
    "        super().__init__()\n",
    "        self.mse = nn.MSELoss()\n",
    "\n",
    "    def forward(self, y_pred, y_true):\n",
    "        return self.mse(y_pred.real, y_true.real) + self.mse(y_pred.imag, y_true.imag)\n",
    "\n",
    "# Example Usage\n",
    "criterion = ComplexMSELossSeparate()\n",
    "loss = criterion(y_pred, y_true)\n",
    "print(\"Complex MSE Loss (Separate Real & Imaginary):\", loss.item())\n"
   ]
  },
  {
   "cell_type": "code",
   "execution_count": 16,
   "id": "01e14719-44a4-491b-9064-02f9add285e9",
   "metadata": {},
   "outputs": [
    {
     "name": "stdout",
     "output_type": "stream",
     "text": [
      "y_true (real, imag):\n",
      " tensor([[1., 2.],\n",
      "        [3., 4.],\n",
      "        [5., 6.]], dtype=torch.float64)\n",
      "y_pred (real, imag):\n",
      " tensor([[1.1000, 2.1000],\n",
      "        [2.9000, 4.1000],\n",
      "        [5.2000, 5.8000]], dtype=torch.float64)\n"
     ]
    }
   ],
   "source": [
    "# a1 = torch.tensor([[1, 2], [3, 4], [5 + 6]], dtype=torch.complex64)\n",
    "y_true = torch.tensor([1+2j, 3+4j, 5+6j], dtype=torch.complex64)\n",
    "y_pred = torch.tensor([1.1+2.1j, 2.9+4.1j, 5.2+5.8j], dtype=torch.complex64)\n",
    "# Convert to float64 and separate real & imaginary parts\n",
    "y_true_real_imag = torch.stack([y_true.real, y_true.imag], dim=1).to(dtype=torch.float64)\n",
    "y_pred_real_imag = torch.stack([y_pred.real, y_pred.imag], dim=1).to(dtype=torch.float64)\n",
    "\n",
    "# Print results\n",
    "print(\"y_true (real, imag):\\n\", y_true_real_imag)\n",
    "print(\"y_pred (real, imag):\\n\", y_pred_real_imag)"
   ]
  },
  {
   "cell_type": "code",
   "execution_count": 19,
   "id": "15426544-acb9-4172-981c-77de4929f7e5",
   "metadata": {},
   "outputs": [
    {
     "name": "stdout",
     "output_type": "stream",
     "text": [
      "Complex MSE Loss 2: 0.03999993165337419\n"
     ]
    }
   ],
   "source": [
    "class ComplexMSELossSeparate2(nn.Module):\n",
    "    def __init__(self):\n",
    "        \"\"\"Custom Mean Squared Error (MSE) Loss treating real and imaginary parts separately.\"\"\"\n",
    "        super().__init__()\n",
    "        self.mse = nn.MSELoss()\n",
    "\n",
    "    def forward(self, y_pred, y_true):\n",
    "        return self.mse(y_pred[:, 0], y_true[:, 0]) + self.mse(y_pred[:, 1], y_true[:, 1])\n",
    "\n",
    "# Example Usage\n",
    "criterion2 = ComplexMSELossSeparate2()\n",
    "loss = criterion2(y_true_real_imag,y_pred_real_imag)\n",
    "print(\"Complex MSE Loss 2:\", loss.item())\n"
   ]
  }
 ],
 "metadata": {
  "kernelspec": {
   "display_name": "venv",
   "language": "python",
   "name": "venv"
  },
  "language_info": {
   "codemirror_mode": {
    "name": "ipython",
    "version": 3
   },
   "file_extension": ".py",
   "mimetype": "text/x-python",
   "name": "python",
   "nbconvert_exporter": "python",
   "pygments_lexer": "ipython3",
   "version": "3.12.2"
  },
  "widgets": {
   "application/vnd.jupyter.widget-state+json": {
    "state": {},
    "version_major": 2,
    "version_minor": 0
   }
  }
 },
 "nbformat": 4,
 "nbformat_minor": 5
}
