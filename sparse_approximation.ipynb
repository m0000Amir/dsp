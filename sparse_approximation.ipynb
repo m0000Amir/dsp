{
 "cells": [
  {
   "cell_type": "code",
   "execution_count": 4,
   "id": "9f31693c-7dec-438d-b21b-ebf6331c2006",
   "metadata": {},
   "outputs": [],
   "source": [
    "import numpy as np"
   ]
  },
  {
   "cell_type": "markdown",
   "id": "d4d5aa1b-cd41-411c-8e11-cb3f9d3db2d1",
   "metadata": {},
   "source": [
    "# Orthogonal Matching Pursuit (OMP) and Sequential Pursuit (SP)\n",
    "\n",
    "## Problem Formulation\n",
    "\n",
    "Given a measurement vector ($\\mathbf{b} \\in \\mathbb{C}^{m} $) and a dictionary matrix ($\\mathbf{A} \\in \\mathbb{C}^{m \\times n}$), we aim to find a sparse solution ($\\mathbf{x} \\in \\mathbb{C}^{n}$) such that:\n",
    "\n",
    "$$\n",
    "\\mathbf{b} = \\mathbf{A} \\mathbf{x} + \\mathbf{e},\n",
    "$$\n",
    "\n",
    "where $(\\mathbf{e})$ is a small error term.\n",
    "\n",
    "\n"
   ]
  },
  {
   "cell_type": "markdown",
   "id": "5cd4c404-18dc-4e37-99c5-bda1783e7a3c",
   "metadata": {},
   "source": [
    "## Orthogonal Matching Pursuit (OMP)\n",
    "\n",
    "OMP iteratively selects the column from $( \\mathbf{A} )$ that has the highest correlation with the residual.\n",
    "\n",
    "1. **Initialize:** Set residual $( \\mathbf{r} = \\mathbf{b} )$, support set $( S = \\emptyset )$, and estimated sparse vector $( \\mathbf{x} = \\mathbf{0} )$.\n",
    "2. **Iteration:** Repeat for $( k = 1, \\dots, s )$:\n",
    "   - Compute the correlation:\n",
    "\n",
    "     $$\n",
    "     j_k = \\arg\\max_j \\left| \\mathbf{A}_j^H \\mathbf{r} \\right|\n",
    "     $$\n",
    "\n",
    "   - Update support set:\n",
    "\n",
    "     $$\n",
    "     S = S \\cup \\{ j_k \\}\n",
    "     $$\n",
    "\n",
    "   - Solve the least-squares problem:\n",
    "\n",
    "     $$\n",
    "     \\mathbf{x}_S = \\arg\\min_{\\mathbf{z}} \\|\\mathbf{A}_S \\mathbf{z} - \\mathbf{b} \\|_2\n",
    "     $$\n",
    "\n",
    "   - Update residual:\n",
    "\n",
    "     $$\n",
    "     \\mathbf{r} = \\mathbf{b} - \\mathbf{A}_S \\mathbf{x}_S\n",
    "     $$\n",
    "\n",
    "3. **Return:** Sparse solution $( \\mathbf{x} )$ with nonzero values in $( S )$.\n",
    "\n"
   ]
  },
  {
   "cell_type": "code",
   "execution_count": 12,
   "id": "96f49e41-f396-4093-bd8b-f60bdfd63dc3",
   "metadata": {},
   "outputs": [],
   "source": [
    "def orthogonal_matching_pursuit(A, b, sparsity):\n",
    "    \"\"\" Orthogonal Matching Pursuit (OMP) for complex-valued data. \"\"\"\n",
    "    m, n = A.shape\n",
    "    residual = b.copy()\n",
    "    support = []\n",
    "    x = np.zeros(n, dtype=np.complex128)\n",
    "    \n",
    "    for _ in range(sparsity):\n",
    "        correlations = A.conj().T @ residual  # Compute correlations\n",
    "        idx = np.argmax(np.abs(correlations))  # Find the index of the max correlation\n",
    "        support.append(idx)\n",
    "        \n",
    "        A_restricted = A[:, support]  # Restricted dictionary\n",
    "        x_restricted = np.linalg.lstsq(A_restricted, b, rcond=None)[0]  # Solve least squares\n",
    "        \n",
    "        residual = b - A_restricted @ x_restricted  # Update residual\n",
    "    \n",
    "    x[support] = x_restricted  # Assign values to x\n",
    "    return x"
   ]
  },
  {
   "cell_type": "markdown",
   "id": "af169ea2-c3bf-4ae0-b95c-05f4978ec853",
   "metadata": {},
   "source": [
    "## Sequential Pursuit (SP)\n",
    "\n",
    "SP selects columns based on maximum correlation but updates $( \\mathbf{x} )$ at each step.\n",
    "\n",
    "1. **Initialize:** Set residual $( \\mathbf{r} = \\mathbf{b} )$, support set $( S = \\emptyset )$, and estimated sparse vector $( \\mathbf{x} = \\mathbf{0} )$.\n",
    "2. **Iteration:** Repeat for $( k = 1, \\dots, s )$:\n",
    "   - Compute the correlation:\n",
    "\n",
    "     $$\n",
    "     j_k = \\arg\\max_j \\left| \\mathbf{A}_j^H \\mathbf{r} \\right|\n",
    "     $$\n",
    "\n",
    "   - Update support set:\n",
    "\n",
    "     $$\n",
    "     S = S \\cup \\{ j_k \\}\n",
    "     $$\n",
    "\n",
    "   - Update sparse solution:\n",
    "\n",
    "     $$\n",
    "     \\mathbf{x}_S = \\mathbf{A}_S^\\dagger \\mathbf{b}\n",
    "     $$\n",
    "\n",
    "   - Update residual:\n",
    "\n",
    "     $$\n",
    "     \\mathbf{r} = \\mathbf{b} - \\mathbf{A} \\mathbf{x}\n",
    "     $$\n",
    "\n",
    "3. **Return:** Sparse solution $( \\mathbf{x} )$."
   ]
  },
  {
   "cell_type": "code",
   "execution_count": 13,
   "id": "7cb6551c-6846-46f8-9e15-a0645ae1de15",
   "metadata": {},
   "outputs": [],
   "source": [
    "def sequential_pursuit(A, b, sparsity):\n",
    "    \"\"\" Sequential Pursuit (SP) for complex-valued data. \"\"\"\n",
    "    m, n = A.shape\n",
    "    residual = b.copy()\n",
    "    support = []\n",
    "    x = np.zeros(n, dtype=np.complex128)\n",
    "    \n",
    "    for _ in range(sparsity):\n",
    "        correlations = A.conj().T @ residual  # Compute correlations\n",
    "        idx = np.argmax(np.abs(correlations))  # Find the index of the max correlation\n",
    "        support.append(idx)\n",
    "        x_subset = np.zeros(n, dtype=np.complex128)\n",
    "        x_subset[support] = np.linalg.pinv(A[:, support]) @ b  # Compute solution using pseudo-inverse\n",
    "        residual = b - A @ x_subset  # Update residual\n",
    "    \n",
    "    x = x_subset  # Assign values to x\n",
    "    return x"
   ]
  },
  {
   "cell_type": "code",
   "execution_count": 15,
   "id": "76b7b80b-6b06-44b3-b757-1d2a8d1acf06",
   "metadata": {},
   "outputs": [
    {
     "data": {
      "text/plain": [
       "(20, 40)"
      ]
     },
     "execution_count": 15,
     "metadata": {},
     "output_type": "execute_result"
    }
   ],
   "source": [
    "A.shape\n"
   ]
  },
  {
   "cell_type": "code",
   "execution_count": 14,
   "id": "d0aa7d86-6431-489c-b01e-cfb172c9c633",
   "metadata": {},
   "outputs": [
    {
     "name": "stdout",
     "output_type": "stream",
     "text": [
      "OMP Solution: [ 0.        +0.j          0.        +0.j          0.        +0.j\n",
      "  0.        +0.j          0.        +0.j          0.12568611+1.41237675j\n",
      "  0.        +0.j         -0.40252193+0.46837757j  0.        +0.j\n",
      "  0.        +0.j          0.        +0.j          0.        +0.j\n",
      "  0.        +0.j          0.        +0.j          0.        +0.j\n",
      "  0.        +0.j          0.        +0.j          0.81676521-0.28333119j\n",
      "  0.        +0.j          0.        +0.j          0.        +0.j\n",
      "  0.        +0.j         -0.28219731-1.06936979j  0.        +0.j\n",
      "  0.        +0.j          0.        +0.j          0.        +0.j\n",
      "  0.        +0.j          0.        +0.j          0.        +0.j\n",
      "  0.        +0.j          0.        +0.j          0.        +0.j\n",
      "  0.        +0.j          0.        +0.j          0.        +0.j\n",
      "  0.        +0.j          0.        +0.j          0.        +0.j\n",
      " -0.17481321+1.54991436j]\n",
      "SP Solution: [ 0.        +0.j          0.        +0.j          0.        +0.j\n",
      "  0.        +0.j          0.        +0.j          0.12568611+1.41237675j\n",
      "  0.        +0.j         -0.40252193+0.46837757j  0.        +0.j\n",
      "  0.        +0.j          0.        +0.j          0.        +0.j\n",
      "  0.        +0.j          0.        +0.j          0.        +0.j\n",
      "  0.        +0.j          0.        +0.j          0.81676521-0.28333119j\n",
      "  0.        +0.j          0.        +0.j          0.        +0.j\n",
      "  0.        +0.j         -0.28219731-1.06936979j  0.        +0.j\n",
      "  0.        +0.j          0.        +0.j          0.        +0.j\n",
      "  0.        +0.j          0.        +0.j          0.        +0.j\n",
      "  0.        +0.j          0.        +0.j          0.        +0.j\n",
      "  0.        +0.j          0.        +0.j          0.        +0.j\n",
      "  0.        +0.j          0.        +0.j          0.        +0.j\n",
      " -0.17481321+1.54991436j]\n"
     ]
    }
   ],
   "source": [
    "# Example usage:\n",
    "m, n, sparsity = 20, 40, 5\n",
    "A = np.random.randn(m, n) + 1j * np.random.randn(m, n)  # Complex dictionary matrix\n",
    "x_true = np.zeros(n, dtype=np.complex128)\n",
    "nonzero_indices = np.random.choice(n, sparsity, replace=False)\n",
    "x_true[nonzero_indices] = np.random.randn(sparsity) + 1j * np.random.randn(sparsity)\n",
    "b = A @ x_true  # Generate measurements\n",
    "\n",
    "x_omp = orthogonal_matching_pursuit(A, b, sparsity)\n",
    "x_sp = sequential_pursuit(A, b, sparsity)\n",
    "\n",
    "print(\"OMP Solution:\", x_omp)\n",
    "print(\"SP Solution:\", x_sp)"
   ]
  }
 ],
 "metadata": {
  "kernelspec": {
   "display_name": "venv",
   "language": "python",
   "name": "venv"
  },
  "language_info": {
   "codemirror_mode": {
    "name": "ipython",
    "version": 3
   },
   "file_extension": ".py",
   "mimetype": "text/x-python",
   "name": "python",
   "nbconvert_exporter": "python",
   "pygments_lexer": "ipython3",
   "version": "3.12.2"
  },
  "widgets": {
   "application/vnd.jupyter.widget-state+json": {
    "state": {},
    "version_major": 2,
    "version_minor": 0
   }
  }
 },
 "nbformat": 4,
 "nbformat_minor": 5
}
